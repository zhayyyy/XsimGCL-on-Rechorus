{
 "cells": [
  {
   "cell_type": "code",
   "execution_count": 33,
   "id": "51e2ea0e",
   "metadata": {},
   "outputs": [],
   "source": [
    "import numpy as np\n",
    "import pandas as pd\n",
    "import os\n",
    "import sys\n",
    "import zipfile\n",
    "import subprocess\n",
    "\n",
    "from matplotlib import pyplot as plt\n",
    "import seaborn as sns\n",
    "from datetime import datetime, timedelta\n",
    "from scipy import stats\n",
    "from tqdm.notebook import tqdm\n",
    "from copy import deepcopy\n",
    "\n",
    "import json"
   ]
  },
  {
   "cell_type": "code",
   "execution_count": 34,
   "id": "c83f9a56",
   "metadata": {},
   "outputs": [],
   "source": [
    "DATASET = 'ml-1m' \n",
    "# RAW_PATH = os.path.join('./', DATASET)\n",
    "RAW_PATH = 'MovieLens-1M'\n",
    "\n",
    "RANDOM_SEED = 0\n",
    "NEG_ITEMS = 99"
   ]
  },
  {
   "cell_type": "markdown",
   "id": "734c7699",
   "metadata": {},
   "source": [
    "# Load data\n",
    "\n",
    "1. Load interaction data and item metadata\n",
    "2. Filter out items with less than 5 interactions\n",
    "3. Calculate basic statistics"
   ]
  },
  {
   "cell_type": "code",
   "execution_count": 35,
   "id": "d13489aa",
   "metadata": {},
   "outputs": [
    {
     "name": "stdout",
     "output_type": "stream",
     "text": [
      "Downloading data into MovieLens-1M\n",
      "Unzip files...\n",
      "Extract ml-1m/\n",
      "Extract ml-1m/movies.dat\n",
      "Extract ml-1m/ratings.dat\n",
      "Extract ml-1m/README\n",
      "Extract ml-1m/users.dat\n"
     ]
    }
   ],
   "source": [
    "# download data if not exists\n",
    "\n",
    "if not os.path.exists(RAW_PATH):\n",
    "    subprocess.call('mkdir ' + RAW_PATH, shell=True)\n",
    "if not os.path.exists(os.path.join(RAW_PATH, DATASET + '.zip')):\n",
    "    print('Downloading data into ' + RAW_PATH)\n",
    "    subprocess.call(\n",
    "        'cd {} && curl -O http://files.grouplens.org/datasets/movielens/{}.zip'\n",
    "        .format(RAW_PATH, DATASET), shell=True)\n",
    "        # 'curl -O http://files.grouplens.org/datasets/movielens/{}.zip'\n",
    "        # .format(DATASET), shell=True)\n",
    "    print('Unzip files...')\n",
    "    f = zipfile.ZipFile(os.path.join(RAW_PATH, DATASET + '.zip'),'r') \n",
    "    # f = zipfile.ZipFile(os.path.join(DATASET + '.zip'),'r') \n",
    "    for file in f.namelist():\n",
    "        print(\"Extract %s\"%(file))\n",
    "        f.extract(file, RAW_PATH)\n",
    "        # f.extract(file)\n",
    "    f.close()"
   ]
  },
  {
   "cell_type": "code",
   "execution_count": 36,
   "id": "296f3101",
   "metadata": {},
   "outputs": [
    {
     "data": {
      "application/vnd.jupyter.widget-view+json": {
       "model_id": "4452f317e0844a0f893e5cfc25ccb29a",
       "version_major": 2,
       "version_minor": 0
      },
      "text/plain": [
       "0it [00:00, ?it/s]"
      ]
     },
     "metadata": {},
     "output_type": "display_data"
    }
   ],
   "source": [
    "# read interaction data\n",
    "interactions = []\n",
    "user_freq, item_freq = dict(), dict()\n",
    "file = os.path.join(RAW_PATH, DATASET, \"ratings.dat\")\n",
    "\n",
    "with open(file) as F:\n",
    "    header = 0\n",
    "    for line in tqdm(F):\n",
    "        if header == 1:\n",
    "            header = 0\n",
    "            continue\n",
    "        line = line.strip().split(\"::\")\n",
    "        uid, iid, rating, time = line[0], line[1], float(line[2]), float(line[3])\n",
    "        if rating >= 4:\n",
    "            label = 1\n",
    "        else:\n",
    "            label = 0\n",
    "        interactions.append([uid,time,iid,label])\n",
    "        if int(label)==1:\n",
    "            user_freq[uid] = user_freq.get(uid,0)+1\n",
    "            item_freq[iid] = item_freq.get(iid,0)+1"
   ]
  },
  {
   "cell_type": "code",
   "execution_count": 37,
   "id": "21a9a930",
   "metadata": {},
   "outputs": [
    {
     "name": "stdout",
     "output_type": "stream",
     "text": [
      "User: 6034/6038, Item: 3125/3533\n"
     ]
    },
    {
     "data": {
      "application/vnd.jupyter.widget-view+json": {
       "model_id": "916b2801afde42008e2218da8b79c71a",
       "version_major": 2,
       "version_minor": 0
      },
      "text/plain": [
       "  0%|          | 0/1000209 [00:00<?, ?it/s]"
      ]
     },
     "metadata": {},
     "output_type": "display_data"
    }
   ],
   "source": [
    "# 5-core filtering\n",
    "select_uid, select_iid = [],[]\n",
    "while len(select_uid)<len(user_freq) or len(select_iid)<len(item_freq):\n",
    "    select_uid, select_iid = [],[]\n",
    "    for u in user_freq:\n",
    "        if user_freq[u]>=5:\n",
    "            select_uid.append(u)\n",
    "    for i in item_freq:\n",
    "        if item_freq[i]>=5:\n",
    "            select_iid.append(i)\n",
    "    print(\"User: %d/%d, Item: %d/%d\"%(len(select_uid),len(user_freq),len(select_iid),len(item_freq)))\n",
    "\n",
    "    select_uid = set(select_uid)\n",
    "    select_iid = set(select_iid)\n",
    "    user_freq, item_freq = dict(), dict()\n",
    "    interactions_5core = []\n",
    "    for line in tqdm(interactions):\n",
    "        uid, iid, label = line[0], line[2], line[-1]\n",
    "        if uid in select_uid and iid in select_iid:\n",
    "            interactions_5core.append(line)\n",
    "            if int(label)==1:\n",
    "                user_freq[uid] = user_freq.get(uid,0)+1\n",
    "                item_freq[iid] = item_freq.get(iid,0)+1\n",
    "    interactions = interactions_5core"
   ]
  },
  {
   "cell_type": "code",
   "execution_count": 38,
   "id": "e8585850",
   "metadata": {
    "scrolled": true
   },
   "outputs": [
    {
     "name": "stdout",
     "output_type": "stream",
     "text": [
      "Selected Interactions: 994338, Users: 6034, Items: 3125\n"
     ]
    }
   ],
   "source": [
    "print(\"Selected Interactions: %d, Users: %d, Items: %d\"%(len(interactions),len(select_uid),len(select_iid)))"
   ]
  },
  {
   "cell_type": "code",
   "execution_count": 39,
   "id": "fa27137e",
   "metadata": {
    "scrolled": false
   },
   "outputs": [
    {
     "data": {
      "application/vnd.jupyter.widget-view+json": {
       "model_id": "a2e984bda5a14ecbbb40066696b5fc8e",
       "version_major": 2,
       "version_minor": 0
      },
      "text/plain": [
       "  0%|          | 0/994338 [00:00<?, ?it/s]"
      ]
     },
     "metadata": {},
     "output_type": "display_data"
    }
   ],
   "source": [
    "# Get timestamp\n",
    "ts = []\n",
    "for i in tqdm(range(len(interactions))):\n",
    "    ts.append(datetime.fromtimestamp(interactions[i][1]))"
   ]
  },
  {
   "cell_type": "code",
   "execution_count": 40,
   "id": "410dfc5b",
   "metadata": {
    "scrolled": true
   },
   "outputs": [],
   "source": [
    "# Construct and Save 5 core results with situation context\n",
    "interaction_df = pd.DataFrame(interactions,columns = [\"user_id\",\"time\",\"news_id\",\"label\"])\n",
    "interaction_df['timestamp'] = ts\n",
    "interaction_df['hour'] = interaction_df['timestamp'].apply(lambda x: x.hour)\n",
    "interaction_df['weekday'] = interaction_df['timestamp'].apply(lambda x: x.weekday())\n",
    "interaction_df['date'] = interaction_df['timestamp'].apply(lambda x: x.date())\n",
    "\n",
    "def get_time_range(hour): # according to the Britannica dictionary\n",
    "    # https://www.britannica.com/dictionary/eb/qa/parts-of-the-day-early-morning-late-morning-etc\n",
    "    if hour>=5 and hour<=8:\n",
    "        return 0\n",
    "    if hour>8 and hour<11:\n",
    "        return 1\n",
    "    if hour>=11 and hour<=12:\n",
    "        return 2\n",
    "    if hour>12 and hour<=15:\n",
    "        return 3\n",
    "    if hour>15 and hour<=17:\n",
    "        return 4\n",
    "    if hour>=18 and hour<=19:\n",
    "        return 5\n",
    "    if hour>19 and hour<=21:\n",
    "        return 6\n",
    "    if hour>21:\n",
    "        return 7\n",
    "    return 8 # 0-4 am\n",
    "\n",
    "interaction_df['period'] = interaction_df.hour.apply(lambda x: get_time_range(x))\n",
    "min_date = interaction_df.date.min()\n",
    "interaction_df['day'] = (interaction_df.date - min_date).apply(lambda x: x.days)\n",
    "\n",
    "# interaction_df.to_csv(\"interaction_5core.csv\",index=False)\n",
    "# interaction_df[\"user_id\"] = interaction_df[\"user_id\"].astype(int)\n",
    "# interaction_df[\"item_id\"] = interaction_df[\"item_id\"].astype(int)\n"
   ]
  },
  {
   "cell_type": "markdown",
   "id": "826906b0",
   "metadata": {},
   "source": [
    "# Prepare data for CTR & Reranking task\n",
    "\n",
    "1. Rename and organize all interaction features\n",
    "2. Split dataset into training, validation, and test; Save interaction files\n",
    "3. Assign impression ID (not necessary for CTR prediction)\n",
    "4. Organize item metadata"
   ]
  },
  {
   "cell_type": "code",
   "execution_count": 41,
   "id": "52e8dd3e",
   "metadata": {},
   "outputs": [],
   "source": [
    "# CTR_PATH='./ML_1MCTR/'\n",
    "CTR_PATH = 'ML_1MCTR'\n",
    "os.makedirs(os.path.join(RAW_PATH, CTR_PATH), exist_ok=True)"
   ]
  },
  {
   "cell_type": "code",
   "execution_count": 42,
   "id": "b2a2a824",
   "metadata": {},
   "outputs": [],
   "source": [
    "# copy interaction file, rename and re-id all features\n",
    "interaction_ctr = interaction_df.copy()\n",
    "interaction_ctr.rename(columns={'hour':'c_hour_c','weekday':'c_weekday_c','period':'c_period_c','day':'c_day_f',\n",
    "                              'user_id':'original_user_id'},\n",
    "                     inplace=True)\n",
    "user2newid_ctr = dict(zip(sorted(interaction_ctr.original_user_id.unique()), \n",
    "                      range(1,interaction_ctr.original_user_id.nunique()+1)))\n",
    "interaction_ctr['user_id'] = interaction_ctr.original_user_id.apply(lambda x: user2newid_ctr[x])\n",
    "\n",
    "item2newid_ctr = dict(zip(sorted(interaction_ctr.news_id.unique()), \n",
    "                      range(1,interaction_ctr.news_id.nunique()+1)))\n",
    "interaction_ctr['item_id'] = interaction_ctr['news_id'].apply(lambda x: item2newid_ctr[x])\n",
    "interaction_ctr.sort_values(by=['user_id','time'],inplace=True)\n",
    "interaction_ctr = interaction_ctr.reset_index(drop=True)\n",
    "\n",
    "nu2nid = dict()\n",
    "ni2nid = dict()\n",
    "for i in user2newid_ctr.keys():\n",
    "    oi = int(i)\n",
    "    nu2nid[oi] = user2newid_ctr[i]\n",
    "\n",
    "for i in item2newid_ctr.keys():\n",
    "    oi = int(i)\n",
    "    ni2nid[oi] = item2newid_ctr[i]\n",
    "\n",
    "json.dump(nu2nid,open(os.path.join(RAW_PATH, CTR_PATH,\"user2newid.json\"),'w'))\n",
    "json.dump(ni2nid,open(os.path.join(RAW_PATH, CTR_PATH,\"item2newid.json\"),'w'))"
   ]
  },
  {
   "cell_type": "code",
   "execution_count": 43,
   "id": "71be081b",
   "metadata": {
    "scrolled": false
   },
   "outputs": [
    {
     "name": "stdout",
     "output_type": "stream",
     "text": [
      "c_hour_c 24\n",
      "c_weekday_c 7\n",
      "c_period_c 9\n",
      "c_day_f 1037\n",
      "user_id 6034\n",
      "item_id 3125\n"
     ]
    }
   ],
   "source": [
    "# Count statistics\n",
    "for col in interaction_ctr.columns:\n",
    "    if col in ['user_id','item_id'] or col.startswith('c_'):\n",
    "        print(col, interaction_ctr[col].nunique())"
   ]
  },
  {
   "cell_type": "code",
   "execution_count": 44,
   "id": "1a47e717",
   "metadata": {
    "scrolled": true
   },
   "outputs": [
    {
     "name": "stdout",
     "output_type": "stream",
     "text": [
      "Train user: 6033, item: 3125\n",
      "Validation user: 239, item:1914\n",
      "Test user: 256, item:1869\n"
     ]
    },
    {
     "data": {
      "text/plain": [
       "(568761, 0.578105497257673, 2651, 0.5107899807321773, 2874, 0.5552550231839258)"
      ]
     },
     "execution_count": 44,
     "metadata": {},
     "output_type": "execute_result"
    }
   ],
   "source": [
    "# split training, validation, and test sets.\n",
    "split_time1 = interaction_ctr.c_day_f.max() * 0.8\n",
    "train = interaction_ctr.loc[interaction_ctr.c_day_f<=split_time1].copy()\n",
    "val_test = interaction_ctr.loc[(interaction_ctr.c_day_f>split_time1)].copy()\n",
    "split_time2 = interaction_ctr.c_day_f.max() * 0.9\n",
    "val = val_test.loc[val_test.c_day_f<=split_time2].copy()\n",
    "test = val_test.loc[val_test.c_day_f>split_time2].copy()\n",
    "\n",
    "# Delete user&item in validation&test sets that not exist in training set\n",
    "train_u, train_i = set(train.user_id.unique()), set(train.item_id.unique())\n",
    "val_sel = val.loc[(val.user_id.isin(train_u))&(val.item_id.isin(train_i))].copy()\n",
    "test_sel = test.loc[(test.user_id.isin(train_u))&(test.item_id.isin(train_i))].copy()\n",
    "print(\"Train user: %d, item: %d\"%(len(train_u),len(train_i)))\n",
    "print(\"Validation user: %d, item:%d\"%(val_sel.user_id.nunique(),val_sel.item_id.nunique()))\n",
    "print(\"Test user: %d, item:%d\"%(test_sel.user_id.nunique(),test_sel.item_id.nunique()))\n",
    "train.label.sum(),train.label.mean(),val_sel.label.sum(),val_sel.label.mean(),test_sel.label.sum(),test_sel.label.mean()"
   ]
  },
  {
   "cell_type": "code",
   "execution_count": 45,
   "id": "8e6de2da",
   "metadata": {},
   "outputs": [
    {
     "data": {
      "text/plain": [
       "(5176, 12)"
      ]
     },
     "execution_count": 45,
     "metadata": {},
     "output_type": "execute_result"
    }
   ],
   "source": [
    "test_sel.shape"
   ]
  },
  {
   "cell_type": "code",
   "execution_count": 46,
   "id": "e5376bf8",
   "metadata": {
    "scrolled": true
   },
   "outputs": [
    {
     "data": {
      "application/vnd.jupyter.widget-view+json": {
       "model_id": "cc83735ef5cb444da5a3c31382c1466f",
       "version_major": 2,
       "version_minor": 0
      },
      "text/plain": [
       "  0%|          | 0/983836 [00:00<?, ?it/s]"
      ]
     },
     "metadata": {},
     "output_type": "display_data"
    },
    {
     "data": {
      "application/vnd.jupyter.widget-view+json": {
       "model_id": "f9207bd3412a422b8f2f2ec194cc8b43",
       "version_major": 2,
       "version_minor": 0
      },
      "text/plain": [
       "  0%|          | 0/5190 [00:00<?, ?it/s]"
      ]
     },
     "metadata": {},
     "output_type": "display_data"
    },
    {
     "data": {
      "application/vnd.jupyter.widget-view+json": {
       "model_id": "ae716f8782fa4c7caf0fe65a52d1ae6d",
       "version_major": 2,
       "version_minor": 0
      },
      "text/plain": [
       "  0%|          | 0/5176 [00:00<?, ?it/s]"
      ]
     },
     "metadata": {},
     "output_type": "display_data"
    }
   ],
   "source": [
    "# Assign impression ids\n",
    "for interaction_partial in [train,val_sel,test_sel]:\n",
    "    interaction_partial['last_user_id'] = interaction_partial['user_id'].shift(1)\n",
    "    impression_ids = []\n",
    "    impression_len = 0\n",
    "    current_impid = 0\n",
    "    max_imp_len = 20\n",
    "    for uid, last_uid in tqdm(interaction_partial[['user_id','last_user_id']].to_numpy()):\n",
    "        if uid == last_uid:\n",
    "            if impression_len >= max_imp_len:\n",
    "                current_impid += 1\n",
    "                impression_len = 1\n",
    "            else:\n",
    "                impression_len += 1\n",
    "            impression_ids.append(current_impid)\n",
    "        else:\n",
    "            current_impid += 1\n",
    "            impression_len = 1\n",
    "            impression_ids.append(current_impid)\n",
    "    interaction_partial.loc[:,'impression_id'] = impression_ids"
   ]
  },
  {
   "cell_type": "code",
   "execution_count": 47,
   "id": "ff48130b",
   "metadata": {},
   "outputs": [],
   "source": [
    "# Save interaction data\n",
    "select_columns = ['user_id','item_id','time','label','c_hour_c','c_weekday_c','c_period_c','c_day_f','impression_id']\n",
    "train[select_columns].to_csv(os.path.join(RAW_PATH, CTR_PATH,'train.csv'),sep=\"\\t\",index=False)\n",
    "val_sel[select_columns].to_csv(os.path.join(RAW_PATH, CTR_PATH,'dev.csv'),sep=\"\\t\",index=False)\n",
    "test_sel[select_columns].to_csv(os.path.join(RAW_PATH, CTR_PATH,'test.csv'),sep=\"\\t\",index=False)"
   ]
  },
  {
   "cell_type": "code",
   "execution_count": 48,
   "id": "5d4b8675",
   "metadata": {
    "scrolled": true
   },
   "outputs": [],
   "source": [
    "# organize & save item metadata\n",
    "item_meta = pd.read_csv(os.path.join(RAW_PATH, DATASET, \"movies.dat\"),\n",
    "            sep='::',names=['movieId','title','genres'],encoding='latin-1',engine='python') # columns: movieId,title,genres\n",
    "item_select = item_meta.loc[item_meta.movieId.isin(interaction_ctr.news_id.unique())].copy()\n",
    "item_select['item_id'] = item_select.movieId.apply(lambda x: item2newid_ctr[str(x)])\n",
    "genres2id = dict(zip(sorted(item_select.genres.unique()),range(1,item_select.genres.nunique()+1)))\n",
    "item_select['i_genre_c'] = item_select['genres'].apply(lambda x: genres2id[x])\n",
    "title2id = dict(zip(sorted(item_select.title.unique()),range(1,item_select.title.nunique()+1)))\n",
    "item_select['i_title_c'] = item_select['title'].apply(lambda x: title2id[x])\n",
    "\n",
    "item_select[['item_id','i_genre_c','i_title_c']].to_csv(\n",
    "    os.path.join(RAW_PATH, CTR_PATH,'item_meta.csv'),sep=\"\\t\",index=False)"
   ]
  },
  {
   "cell_type": "markdown",
   "id": "098e3061",
   "metadata": {},
   "source": [
    "# Prepare data for Top-k Recommendation Task\n",
    "1. Rename all interaction features\n",
    "2. Split dataset into training, validation, and test\n",
    "3. Re-assign IDs to user, item, and context; Save interaction files\n",
    "4. Organize item metadata"
   ]
  },
  {
   "cell_type": "code",
   "execution_count": 49,
   "id": "04f99a62",
   "metadata": {},
   "outputs": [],
   "source": [
    "TOPK_PATH='./ML_1MTOPK/'\n",
    "os.makedirs(os.path.join(RAW_PATH, TOPK_PATH),exist_ok=True)"
   ]
  },
  {
   "cell_type": "code",
   "execution_count": 50,
   "id": "7f8a8ca6",
   "metadata": {},
   "outputs": [],
   "source": [
    "# copy & rename columns\n",
    "interaction_pos = interaction_df.loc[interaction_df.label==1].copy() # retain positive interactions\n",
    "interaction_pos.rename(columns={'hour':'c_hour_c','weekday':'c_weekday_c','period':'c_period_c','day':'c_day_f',\n",
    "                              'user_id':'original_user_id'}, inplace=True)"
   ]
  },
  {
   "cell_type": "code",
   "execution_count": 51,
   "id": "236e598c",
   "metadata": {
    "scrolled": true
   },
   "outputs": [
    {
     "name": "stdout",
     "output_type": "stream",
     "text": [
      "Train user: 6032, item: 3125\n",
      "Validation user: 214, item:1198\n",
      "Test user: 226, item:1260\n"
     ]
    },
    {
     "data": {
      "text/plain": [
       "(568761, 1.0, 2562, 1.0, 2874, 1.0)"
      ]
     },
     "execution_count": 51,
     "metadata": {},
     "output_type": "execute_result"
    }
   ],
   "source": [
    "# split training, validation, and test sets.\n",
    "split_time1 = int(interaction_pos.c_day_f.max() * 0.8)\n",
    "train = interaction_pos.loc[interaction_pos.c_day_f<=split_time1].copy()\n",
    "val_test = interaction_pos.loc[(interaction_pos.c_day_f>split_time1)].copy()\n",
    "val_test.sort_values(by='time',inplace=True)\n",
    "split_time2 = int(interaction_pos.c_day_f.max() * 0.9)\n",
    "val = val_test.loc[val_test.c_day_f<=split_time2].copy()\n",
    "test = val_test.loc[val_test.c_day_f>split_time2].copy()\n",
    "\n",
    "# Delete user&item in validation&test sets that not exist in training set\n",
    "train_u, train_i = set(train.original_user_id.unique()), set(train.news_id.unique())\n",
    "val_sel = val.loc[(val.original_user_id.isin(train_u))&(val.news_id.isin(train_i))].copy()\n",
    "test_sel = test.loc[(test.original_user_id.isin(train_u))&(test.news_id.isin(train_i))].copy()\n",
    "print(\"Train user: %d, item: %d\"%(len(train_u),len(train_i)))\n",
    "print(\"Validation user: %d, item:%d\"%(val_sel.original_user_id.nunique(),val_sel.news_id.nunique()))\n",
    "print(\"Test user: %d, item:%d\"%(test_sel.original_user_id.nunique(),test_sel.news_id.nunique()))\n",
    "train.label.sum(),train.label.mean(),val_sel.label.sum(),val_sel.label.mean(),test_sel.label.sum(),test_sel.label.mean()"
   ]
  },
  {
   "cell_type": "code",
   "execution_count": 52,
   "id": "c4691f22",
   "metadata": {},
   "outputs": [],
   "source": [
    "# Assign ids for users and items (to generate continous ids)\n",
    "all_df = pd.concat([train,val_sel,test_sel],axis=0)\n",
    "user2newid_topk = dict(zip(sorted(all_df.original_user_id.unique()), \n",
    "                      range(1,all_df.original_user_id.nunique()+1)))\n",
    " \n",
    "for df in [train,val_sel,test_sel]:\n",
    "    df['user_id'] = df.original_user_id.apply(lambda x: user2newid_topk[x])\n",
    "\n",
    "item2newid_topk = dict(zip(sorted(all_df.news_id.unique()), \n",
    "                      range(1,all_df.news_id.nunique()+1)))\n",
    "for df in [train,val_sel,test_sel]:\n",
    "    df['item_id'] = df['news_id'].apply(lambda x: item2newid_topk[x])\n",
    "\n",
    "all_df['user_id'] = all_df.original_user_id.apply(lambda x: user2newid_topk[x])\n",
    "all_df['item_id'] = all_df['news_id'].apply(lambda x: item2newid_topk[x])"
   ]
  },
  {
   "cell_type": "code",
   "execution_count": 53,
   "id": "d0cf22a7",
   "metadata": {
    "scrolled": true
   },
   "outputs": [],
   "source": [
    "nu2nid = dict()\n",
    "ni2nid = dict()\n",
    "for i in user2newid_topk.keys():\n",
    "    oi = int(i)\n",
    "    nu2nid[oi] = user2newid_topk[i]\n",
    "\n",
    "for i in item2newid_topk.keys():\n",
    "    oi = int(i)\n",
    "    ni2nid[oi] = item2newid_topk[i]\n",
    "json.dump(nu2nid,open(os.path.join(RAW_PATH, TOPK_PATH,\"user2newid.json\"),'w'))\n",
    "json.dump(ni2nid,open(os.path.join(RAW_PATH, TOPK_PATH,\"item2newid.json\"),'w'))"
   ]
  },
  {
   "cell_type": "code",
   "execution_count": 54,
   "id": "d68bf2f4",
   "metadata": {},
   "outputs": [
    {
     "data": {
      "application/vnd.jupyter.widget-view+json": {
       "model_id": "c0cee9ff152543ceb2eb1099acd2c60e",
       "version_major": 2,
       "version_minor": 0
      },
      "text/plain": [
       "0it [00:00, ?it/s]"
      ]
     },
     "metadata": {},
     "output_type": "display_data"
    },
    {
     "data": {
      "application/vnd.jupyter.widget-view+json": {
       "model_id": "458ca256ffbd4808a6fc10f398163f93",
       "version_major": 2,
       "version_minor": 0
      },
      "text/plain": [
       "0it [00:00, ?it/s]"
      ]
     },
     "metadata": {},
     "output_type": "display_data"
    }
   ],
   "source": [
    "# generate negative items\n",
    "def generate_negative(data_df,all_items,clicked_item_set,random_seed,neg_item_num=99):\n",
    "    np.random.seed(random_seed)\n",
    "    neg_items = np.random.choice(all_items, (len(data_df),neg_item_num))\n",
    "    for i, uid in tqdm(enumerate(data_df['user_id'].values)):\n",
    "        user_clicked = clicked_item_set[uid]\n",
    "        for j in range(len(neg_items[i])):\n",
    "            while neg_items[i][j] in user_clicked|set(neg_items[i][:j]):\n",
    "                neg_items[i][j] = np.random.choice(all_items, 1)\n",
    "    return neg_items.tolist()\n",
    "\n",
    "clicked_item_set = dict()\n",
    "for user_id, seq_df in all_df.groupby('user_id'):\n",
    "    clicked_item_set[user_id] = set(seq_df['item_id'].values.tolist())\n",
    "all_items = all_df.item_id.unique()\n",
    "val_sel['neg_items'] = generate_negative(val_sel,all_items,clicked_item_set,random_seed=1)\n",
    "test_sel['neg_items'] = generate_negative(test_sel,all_items,clicked_item_set,random_seed=2)"
   ]
  },
  {
   "cell_type": "code",
   "execution_count": 55,
   "id": "28016f4d",
   "metadata": {},
   "outputs": [],
   "source": [
    "select_columns = ['user_id','item_id','time','c_hour_c','c_weekday_c','c_period_c','c_day_f']\n",
    "train[select_columns].to_csv(os.path.join(RAW_PATH, TOPK_PATH,'train.csv'),sep=\"\\t\",index=False)\n",
    "val_sel[select_columns+['neg_items']].to_csv(os.path.join(RAW_PATH, TOPK_PATH,'dev.csv'),sep=\"\\t\",index=False)\n",
    "test_sel[select_columns+['neg_items']].to_csv(os.path.join(RAW_PATH, TOPK_PATH,'test.csv'),sep=\"\\t\",index=False)"
   ]
  },
  {
   "cell_type": "code",
   "execution_count": 56,
   "id": "36ea9bf4",
   "metadata": {
    "scrolled": true
   },
   "outputs": [],
   "source": [
    "# organize & save item metadata\n",
    "item_meta = pd.read_csv(os.path.join(RAW_PATH, DATASET, \"movies.dat\"),\n",
    "            sep='::',names=['movieId','title','genres'],encoding='latin-1',engine='python') # columns: movieId,title,genres\n",
    "item_select = item_meta.loc[item_meta.movieId.isin(interaction_pos.news_id.unique())].copy()\n",
    "item_select['item_id'] = item_select.movieId.apply(lambda x: item2newid_topk[x])\n",
    "genres2id = dict(zip(sorted(item_select.genres.unique()),range(1,item_select.genres.nunique()+1)))\n",
    "item_select['i_genre_c'] = item_select['genres'].apply(lambda x: genres2id[x])\n",
    "title2id = dict(zip(sorted(item_select.title.unique()),range(1,item_select.title.nunique()+1)))\n",
    "item_select['i_title_c'] = item_select['title'].apply(lambda x: title2id[x])\n",
    "\n",
    "item_select[['item_id','i_genre_c','i_title_c']].to_csv(\n",
    "    os.path.join(RAW_PATH, TOPK_PATH,'item_meta.csv'),sep=\"\\t\",index=False)"
   ]
  }
 ],
 "metadata": {
  "kernelspec": {
   "display_name": "Python 3",
   "language": "python",
   "name": "python3"
  },
  "language_info": {
   "codemirror_mode": {
    "name": "ipython",
    "version": 3
   },
   "file_extension": ".py",
   "mimetype": "text/x-python",
   "name": "python",
   "nbconvert_exporter": "python",
   "pygments_lexer": "ipython3",
   "version": "3.10.16"
  }
 },
 "nbformat": 4,
 "nbformat_minor": 5
}
